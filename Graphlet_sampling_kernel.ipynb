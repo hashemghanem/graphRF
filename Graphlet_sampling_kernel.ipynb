{
 "cells": [
  {
   "cell_type": "code",
   "execution_count": null,
   "metadata": {},
   "outputs": [],
   "source": [
    "'''\n",
    "this code shows the implementation of graphlet_sampling kernel ( which is expected to have the higher accuracy\n",
    "than random features_based kernels, but much longer computational time)\n",
    "'''\n",
    "\n",
    "import numpy as np\n",
    "\n",
    "from sklearn.model_selection import train_test_split\n",
    "from sklearn.svm import SVC\n",
    "from sklearn.metrics import accuracy_score\n",
    "\n",
    "from grakel.datasets import fetch_dataset\n",
    "from grakel.kernels import ShortestPath\n",
    "from grakel.kernels import GraphletSampling\n",
    "\n",
    "# Loads the DD dataset\n",
    "DD = fetch_dataset(\"DD\", verbose=True)\n",
    "G, y = DD.data, DD.target\n",
    "\n",
    "\n",
    "# Splits the dataset into a training and a test set\n",
    "G_train, G_test, y_train, y_test = train_test_split(G, y, test_size=0.1, random_state=42)\n",
    "G_train,y_train=G_train[1:800], y_train[1:800]\n",
    "# Uses the shortest path kernel to generate the kernel matrices\n",
    "gk = GraphletSampling(k=6)\n",
    "print(0)\n",
    "#gk = ShortestPath(normalize=True)\n",
    "K_train = gk.fit_transform(G_train)\n",
    "print(1)\n",
    "K_test = gk.transform(G_test)\n",
    "print(2)\n",
    "print('st0')\n",
    "# Uses the SVM classifier to perform classification\n",
    "clf = SVC(kernel=\"precomputed\")\n",
    "print(1)\n",
    "clf.fit(K_train, y_train)\n",
    "y_pred = clf.predict(K_test)\n",
    "\n",
    "# Computes and prints the classification accuracy\n",
    "acc = accuracy_score(y_test, y_pred)\n",
    "print(\"Accuracy:\", str(round(acc*100, 2)) + \"%\")"
   ]
  }
 ],
 "metadata": {
  "kernelspec": {
   "display_name": "Python 3",
   "language": "python",
   "name": "python3"
  },
  "language_info": {
   "codemirror_mode": {
    "name": "ipython",
    "version": 3
   },
   "file_extension": ".py",
   "mimetype": "text/x-python",
   "name": "python",
   "nbconvert_exporter": "python",
   "pygments_lexer": "ipython3",
   "version": "3.7.4"
  }
 },
 "nbformat": 4,
 "nbformat_minor": 4
}
