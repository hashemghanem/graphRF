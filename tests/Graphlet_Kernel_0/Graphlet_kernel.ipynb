{
  "nbformat": 4,
  "nbformat_minor": 0,
  "metadata": {
    "colab": {
      "name": "Graphlet kernel.ipynb",
      "provenance": [],
      "collapsed_sections": []
    },
    "kernelspec": {
      "name": "python3",
      "display_name": "Python 3"
    }
  },
  "cells": [
    {
      "cell_type": "code",
      "metadata": {
        "id": "ebPAAZR1dt2I",
        "colab_type": "code",
        "colab": {
          "base_uri": "https://localhost:8080/",
          "height": 386
        },
        "outputId": "6af598b8-3021-42fa-c7e1-0aeb88717de7"
      },
      "source": [
        "'''\n",
        "this code shows the implementation of graphlet_sampling kernel ( which is expected to have the higher accuracy\n",
        "than random features_based kernels, but much longer computational time)\n",
        "'''\n",
        "!pip install grakel \n",
        "import time \n",
        "import numpy as np\n",
        "from sklearn.model_selection import train_test_split\n",
        "from sklearn.svm import SVC\n",
        "from sklearn.metrics import accuracy_score\n",
        "import networkx as nx\n",
        "import grakel as gk \n",
        "\n",
        "from grakel.datasets import fetch_dataset\n",
        "from grakel.kernels import ShortestPath\n",
        "from grakel.kernels import GraphletSampling"
      ],
      "execution_count": 11,
      "outputs": [
        {
          "output_type": "stream",
          "text": [
            "Collecting grakel\n",
            "\u001b[?25l  Downloading https://files.pythonhosted.org/packages/93/c4/23eac3ecdd3c77290262bbf84b504ca92e9568620a793906ca3d257aa8fc/grakel-0.1b7-cp36-cp36m-manylinux2010_x86_64.whl (1.7MB)\n",
            "\r\u001b[K     |▏                               | 10kB 19.0MB/s eta 0:00:01\r\u001b[K     |▍                               | 20kB 1.8MB/s eta 0:00:01\r\u001b[K     |▋                               | 30kB 2.6MB/s eta 0:00:01\r\u001b[K     |▉                               | 40kB 1.7MB/s eta 0:00:01\r\u001b[K     |█                               | 51kB 2.1MB/s eta 0:00:01\r\u001b[K     |█▏                              | 61kB 2.6MB/s eta 0:00:01\r\u001b[K     |█▍                              | 71kB 3.0MB/s eta 0:00:01\r\u001b[K     |█▋                              | 81kB 3.3MB/s eta 0:00:01\r\u001b[K     |█▉                              | 92kB 3.7MB/s eta 0:00:01\r\u001b[K     |██                              | 102kB 2.9MB/s eta 0:00:01\r\u001b[K     |██▏                             | 112kB 2.9MB/s eta 0:00:01\r\u001b[K     |██▍                             | 122kB 2.9MB/s eta 0:00:01\r\u001b[K     |██▋                             | 133kB 2.9MB/s eta 0:00:01\r\u001b[K     |██▊                             | 143kB 2.9MB/s eta 0:00:01\r\u001b[K     |███                             | 153kB 2.9MB/s eta 0:00:01\r\u001b[K     |███▏                            | 163kB 2.9MB/s eta 0:00:01\r\u001b[K     |███▍                            | 174kB 2.9MB/s eta 0:00:01\r\u001b[K     |███▋                            | 184kB 2.9MB/s eta 0:00:01\r\u001b[K     |███▊                            | 194kB 2.9MB/s eta 0:00:01\r\u001b[K     |████                            | 204kB 2.9MB/s eta 0:00:01\r\u001b[K     |████▏                           | 215kB 2.9MB/s eta 0:00:01\r\u001b[K     |████▍                           | 225kB 2.9MB/s eta 0:00:01\r\u001b[K     |████▌                           | 235kB 2.9MB/s eta 0:00:01\r\u001b[K     |████▊                           | 245kB 2.9MB/s eta 0:00:01\r\u001b[K     |█████                           | 256kB 2.9MB/s eta 0:00:01\r\u001b[K     |█████▏                          | 266kB 2.9MB/s eta 0:00:01\r\u001b[K     |█████▍                          | 276kB 2.9MB/s eta 0:00:01\r\u001b[K     |█████▌                          | 286kB 2.9MB/s eta 0:00:01\r\u001b[K     |█████▊                          | 296kB 2.9MB/s eta 0:00:01\r\u001b[K     |██████                          | 307kB 2.9MB/s eta 0:00:01\r\u001b[K     |██████▏                         | 317kB 2.9MB/s eta 0:00:01\r\u001b[K     |██████▍                         | 327kB 2.9MB/s eta 0:00:01\r\u001b[K     |██████▌                         | 337kB 2.9MB/s eta 0:00:01\r\u001b[K     |██████▊                         | 348kB 2.9MB/s eta 0:00:01\r\u001b[K     |███████                         | 358kB 2.9MB/s eta 0:00:01\r\u001b[K     |███████▏                        | 368kB 2.9MB/s eta 0:00:01\r\u001b[K     |███████▎                        | 378kB 2.9MB/s eta 0:00:01\r\u001b[K     |███████▌                        | 389kB 2.9MB/s eta 0:00:01\r\u001b[K     |███████▊                        | 399kB 2.9MB/s eta 0:00:01\r\u001b[K     |████████                        | 409kB 2.9MB/s eta 0:00:01\r\u001b[K     |████████▏                       | 419kB 2.9MB/s eta 0:00:01\r\u001b[K     |████████▎                       | 430kB 2.9MB/s eta 0:00:01\r\u001b[K     |████████▌                       | 440kB 2.9MB/s eta 0:00:01\r\u001b[K     |████████▊                       | 450kB 2.9MB/s eta 0:00:01\r\u001b[K     |█████████                       | 460kB 2.9MB/s eta 0:00:01\r\u001b[K     |█████████                       | 471kB 2.9MB/s eta 0:00:01\r\u001b[K     |█████████▎                      | 481kB 2.9MB/s eta 0:00:01\r\u001b[K     |█████████▌                      | 491kB 2.9MB/s eta 0:00:01\r\u001b[K     |█████████▊                      | 501kB 2.9MB/s eta 0:00:01\r\u001b[K     |██████████                      | 512kB 2.9MB/s eta 0:00:01\r\u001b[K     |██████████                      | 522kB 2.9MB/s eta 0:00:01\r\u001b[K     |██████████▎                     | 532kB 2.9MB/s eta 0:00:01\r\u001b[K     |██████████▌                     | 542kB 2.9MB/s eta 0:00:01\r\u001b[K     |██████████▊                     | 552kB 2.9MB/s eta 0:00:01\r\u001b[K     |███████████                     | 563kB 2.9MB/s eta 0:00:01\r\u001b[K     |███████████                     | 573kB 2.9MB/s eta 0:00:01\r\u001b[K     |███████████▎                    | 583kB 2.9MB/s eta 0:00:01\r\u001b[K     |███████████▌                    | 593kB 2.9MB/s eta 0:00:01\r\u001b[K     |███████████▊                    | 604kB 2.9MB/s eta 0:00:01\r\u001b[K     |███████████▉                    | 614kB 2.9MB/s eta 0:00:01\r\u001b[K     |████████████                    | 624kB 2.9MB/s eta 0:00:01\r\u001b[K     |████████████▎                   | 634kB 2.9MB/s eta 0:00:01\r\u001b[K     |████████████▌                   | 645kB 2.9MB/s eta 0:00:01\r\u001b[K     |████████████▊                   | 655kB 2.9MB/s eta 0:00:01\r\u001b[K     |████████████▉                   | 665kB 2.9MB/s eta 0:00:01\r\u001b[K     |█████████████                   | 675kB 2.9MB/s eta 0:00:01\r\u001b[K     |█████████████▎                  | 686kB 2.9MB/s eta 0:00:01\r\u001b[K     |█████████████▌                  | 696kB 2.9MB/s eta 0:00:01\r\u001b[K     |█████████████▋                  | 706kB 2.9MB/s eta 0:00:01\r\u001b[K     |█████████████▉                  | 716kB 2.9MB/s eta 0:00:01\r\u001b[K     |██████████████                  | 727kB 2.9MB/s eta 0:00:01\r\u001b[K     |██████████████▎                 | 737kB 2.9MB/s eta 0:00:01\r\u001b[K     |██████████████▌                 | 747kB 2.9MB/s eta 0:00:01\r\u001b[K     |██████████████▋                 | 757kB 2.9MB/s eta 0:00:01\r\u001b[K     |██████████████▉                 | 768kB 2.9MB/s eta 0:00:01\r\u001b[K     |███████████████                 | 778kB 2.9MB/s eta 0:00:01\r\u001b[K     |███████████████▎                | 788kB 2.9MB/s eta 0:00:01\r\u001b[K     |███████████████▍                | 798kB 2.9MB/s eta 0:00:01\r\u001b[K     |███████████████▋                | 808kB 2.9MB/s eta 0:00:01\r\u001b[K     |███████████████▉                | 819kB 2.9MB/s eta 0:00:01\r\u001b[K     |████████████████                | 829kB 2.9MB/s eta 0:00:01\r\u001b[K     |████████████████▎               | 839kB 2.9MB/s eta 0:00:01\r\u001b[K     |████████████████▍               | 849kB 2.9MB/s eta 0:00:01\r\u001b[K     |████████████████▋               | 860kB 2.9MB/s eta 0:00:01\r\u001b[K     |████████████████▉               | 870kB 2.9MB/s eta 0:00:01\r\u001b[K     |█████████████████               | 880kB 2.9MB/s eta 0:00:01\r\u001b[K     |█████████████████▎              | 890kB 2.9MB/s eta 0:00:01\r\u001b[K     |█████████████████▍              | 901kB 2.9MB/s eta 0:00:01\r\u001b[K     |█████████████████▋              | 911kB 2.9MB/s eta 0:00:01\r\u001b[K     |█████████████████▉              | 921kB 2.9MB/s eta 0:00:01\r\u001b[K     |██████████████████              | 931kB 2.9MB/s eta 0:00:01\r\u001b[K     |██████████████████▏             | 942kB 2.9MB/s eta 0:00:01\r\u001b[K     |██████████████████▍             | 952kB 2.9MB/s eta 0:00:01\r\u001b[K     |██████████████████▋             | 962kB 2.9MB/s eta 0:00:01\r\u001b[K     |██████████████████▉             | 972kB 2.9MB/s eta 0:00:01\r\u001b[K     |███████████████████             | 983kB 2.9MB/s eta 0:00:01\r\u001b[K     |███████████████████▏            | 993kB 2.9MB/s eta 0:00:01\r\u001b[K     |███████████████████▍            | 1.0MB 2.9MB/s eta 0:00:01\r\u001b[K     |███████████████████▋            | 1.0MB 2.9MB/s eta 0:00:01\r\u001b[K     |███████████████████▉            | 1.0MB 2.9MB/s eta 0:00:01\r\u001b[K     |████████████████████            | 1.0MB 2.9MB/s eta 0:00:01\r\u001b[K     |████████████████████▏           | 1.0MB 2.9MB/s eta 0:00:01\r\u001b[K     |████████████████████▍           | 1.1MB 2.9MB/s eta 0:00:01\r\u001b[K     |████████████████████▋           | 1.1MB 2.9MB/s eta 0:00:01\r\u001b[K     |████████████████████▉           | 1.1MB 2.9MB/s eta 0:00:01\r\u001b[K     |█████████████████████           | 1.1MB 2.9MB/s eta 0:00:01\r\u001b[K     |█████████████████████▏          | 1.1MB 2.9MB/s eta 0:00:01\r\u001b[K     |█████████████████████▍          | 1.1MB 2.9MB/s eta 0:00:01\r\u001b[K     |█████████████████████▋          | 1.1MB 2.9MB/s eta 0:00:01\r\u001b[K     |█████████████████████▉          | 1.1MB 2.9MB/s eta 0:00:01\r\u001b[K     |██████████████████████          | 1.1MB 2.9MB/s eta 0:00:01\r\u001b[K     |██████████████████████▏         | 1.1MB 2.9MB/s eta 0:00:01\r\u001b[K     |██████████████████████▍         | 1.2MB 2.9MB/s eta 0:00:01\r\u001b[K     |██████████████████████▋         | 1.2MB 2.9MB/s eta 0:00:01\r\u001b[K     |██████████████████████▊         | 1.2MB 2.9MB/s eta 0:00:01\r\u001b[K     |███████████████████████         | 1.2MB 2.9MB/s eta 0:00:01\r\u001b[K     |███████████████████████▏        | 1.2MB 2.9MB/s eta 0:00:01\r\u001b[K     |███████████████████████▍        | 1.2MB 2.9MB/s eta 0:00:01\r\u001b[K     |███████████████████████▋        | 1.2MB 2.9MB/s eta 0:00:01\r\u001b[K     |███████████████████████▊        | 1.2MB 2.9MB/s eta 0:00:01\r\u001b[K     |████████████████████████        | 1.2MB 2.9MB/s eta 0:00:01\r\u001b[K     |████████████████████████▏       | 1.2MB 2.9MB/s eta 0:00:01\r\u001b[K     |████████████████████████▍       | 1.3MB 2.9MB/s eta 0:00:01\r\u001b[K     |████████████████████████▌       | 1.3MB 2.9MB/s eta 0:00:01\r\u001b[K     |████████████████████████▊       | 1.3MB 2.9MB/s eta 0:00:01\r\u001b[K     |█████████████████████████       | 1.3MB 2.9MB/s eta 0:00:01\r\u001b[K     |█████████████████████████▏      | 1.3MB 2.9MB/s eta 0:00:01\r\u001b[K     |█████████████████████████▍      | 1.3MB 2.9MB/s eta 0:00:01\r\u001b[K     |█████████████████████████▌      | 1.3MB 2.9MB/s eta 0:00:01\r\u001b[K     |█████████████████████████▊      | 1.3MB 2.9MB/s eta 0:00:01\r\u001b[K     |██████████████████████████      | 1.3MB 2.9MB/s eta 0:00:01\r\u001b[K     |██████████████████████████▏     | 1.4MB 2.9MB/s eta 0:00:01\r\u001b[K     |██████████████████████████▎     | 1.4MB 2.9MB/s eta 0:00:01\r\u001b[K     |██████████████████████████▌     | 1.4MB 2.9MB/s eta 0:00:01\r\u001b[K     |██████████████████████████▊     | 1.4MB 2.9MB/s eta 0:00:01\r\u001b[K     |███████████████████████████     | 1.4MB 2.9MB/s eta 0:00:01\r\u001b[K     |███████████████████████████▏    | 1.4MB 2.9MB/s eta 0:00:01\r\u001b[K     |███████████████████████████▎    | 1.4MB 2.9MB/s eta 0:00:01\r\u001b[K     |███████████████████████████▌    | 1.4MB 2.9MB/s eta 0:00:01\r\u001b[K     |███████████████████████████▊    | 1.4MB 2.9MB/s eta 0:00:01\r\u001b[K     |████████████████████████████    | 1.4MB 2.9MB/s eta 0:00:01\r\u001b[K     |████████████████████████████▏   | 1.5MB 2.9MB/s eta 0:00:01\r\u001b[K     |████████████████████████████▎   | 1.5MB 2.9MB/s eta 0:00:01\r\u001b[K     |████████████████████████████▌   | 1.5MB 2.9MB/s eta 0:00:01\r\u001b[K     |████████████████████████████▊   | 1.5MB 2.9MB/s eta 0:00:01\r\u001b[K     |█████████████████████████████   | 1.5MB 2.9MB/s eta 0:00:01\r\u001b[K     |█████████████████████████████   | 1.5MB 2.9MB/s eta 0:00:01\r\u001b[K     |█████████████████████████████▎  | 1.5MB 2.9MB/s eta 0:00:01\r\u001b[K     |█████████████████████████████▌  | 1.5MB 2.9MB/s eta 0:00:01\r\u001b[K     |█████████████████████████████▊  | 1.5MB 2.9MB/s eta 0:00:01\r\u001b[K     |██████████████████████████████  | 1.5MB 2.9MB/s eta 0:00:01\r\u001b[K     |██████████████████████████████  | 1.6MB 2.9MB/s eta 0:00:01\r\u001b[K     |██████████████████████████████▎ | 1.6MB 2.9MB/s eta 0:00:01\r\u001b[K     |██████████████████████████████▌ | 1.6MB 2.9MB/s eta 0:00:01\r\u001b[K     |██████████████████████████████▊ | 1.6MB 2.9MB/s eta 0:00:01\r\u001b[K     |██████████████████████████████▉ | 1.6MB 2.9MB/s eta 0:00:01\r\u001b[K     |███████████████████████████████ | 1.6MB 2.9MB/s eta 0:00:01\r\u001b[K     |███████████████████████████████▎| 1.6MB 2.9MB/s eta 0:00:01\r\u001b[K     |███████████████████████████████▌| 1.6MB 2.9MB/s eta 0:00:01\r\u001b[K     |███████████████████████████████▊| 1.6MB 2.9MB/s eta 0:00:01\r\u001b[K     |███████████████████████████████▉| 1.6MB 2.9MB/s eta 0:00:01\r\u001b[K     |████████████████████████████████| 1.7MB 2.9MB/s \n",
            "\u001b[?25hRequirement already satisfied: scikit-learn>=0.19 in /usr/local/lib/python3.6/dist-packages (from grakel) (0.22.2.post1)\n",
            "Requirement already satisfied: numpy>=1.14.0 in /usr/local/lib/python3.6/dist-packages (from grakel) (1.18.3)\n",
            "Requirement already satisfied: six>=1.11.0 in /usr/local/lib/python3.6/dist-packages (from grakel) (1.12.0)\n",
            "Requirement already satisfied: future>=0.16.0 in /usr/local/lib/python3.6/dist-packages (from grakel) (0.16.0)\n",
            "Collecting nose>=1.1.2\n",
            "\u001b[?25l  Downloading https://files.pythonhosted.org/packages/15/d8/dd071918c040f50fa1cf80da16423af51ff8ce4a0f2399b7bf8de45ac3d9/nose-1.3.7-py3-none-any.whl (154kB)\n",
            "\r\u001b[K     |██▏                             | 10kB 28.9MB/s eta 0:00:01\r\u001b[K     |████▎                           | 20kB 37.7MB/s eta 0:00:01\r\u001b[K     |██████▍                         | 30kB 43.1MB/s eta 0:00:01\r\u001b[K     |████████▌                       | 40kB 47.1MB/s eta 0:00:01\r\u001b[K     |██████████▋                     | 51kB 50.1MB/s eta 0:00:01\r\u001b[K     |████████████▊                   | 61kB 53.7MB/s eta 0:00:01\r\u001b[K     |██████████████▉                 | 71kB 55.0MB/s eta 0:00:01\r\u001b[K     |█████████████████               | 81kB 56.2MB/s eta 0:00:01\r\u001b[K     |███████████████████             | 92kB 57.7MB/s eta 0:00:01\r\u001b[K     |█████████████████████▏          | 102kB 58.7MB/s eta 0:00:01\r\u001b[K     |███████████████████████▎        | 112kB 58.7MB/s eta 0:00:01\r\u001b[K     |█████████████████████████▍      | 122kB 58.7MB/s eta 0:00:01\r\u001b[K     |███████████████████████████▌    | 133kB 58.7MB/s eta 0:00:01\r\u001b[K     |█████████████████████████████▋  | 143kB 58.7MB/s eta 0:00:01\r\u001b[K     |███████████████████████████████▊| 153kB 58.7MB/s eta 0:00:01\r\u001b[K     |████████████████████████████████| 163kB 58.7MB/s \n",
            "\u001b[?25hRequirement already satisfied: cython>=0.27.3 in /usr/local/lib/python3.6/dist-packages (from grakel) (0.29.17)\n",
            "Requirement already satisfied: joblib>=0.11 in /usr/local/lib/python3.6/dist-packages (from scikit-learn>=0.19->grakel) (0.14.1)\n",
            "Requirement already satisfied: scipy>=0.17.0 in /usr/local/lib/python3.6/dist-packages (from scikit-learn>=0.19->grakel) (1.4.1)\n",
            "Installing collected packages: nose, grakel\n",
            "Successfully installed grakel-0.1b7 nose-1.3.7\n"
          ],
          "name": "stdout"
        },
        {
          "output_type": "stream",
          "text": [
            "/usr/local/lib/python3.6/dist-packages/sklearn/externals/joblib/__init__.py:15: FutureWarning: sklearn.externals.joblib is deprecated in 0.21 and will be removed in 0.23. Please import this functionality directly from joblib, which can be installed with: pip install joblib. If this warning is raised when loading pickled models, you may need to re-serialize those models with scikit-learn 0.21+.\n",
            "  warnings.warn(msg, category=FutureWarning)\n",
            "/usr/local/lib/python3.6/dist-packages/sklearn/utils/deprecation.py:144: FutureWarning: The sklearn.datasets.lfw module is  deprecated in version 0.22 and will be removed in version 0.24. The corresponding classes / functions should instead be imported from sklearn.datasets. Anything that cannot be imported from sklearn.datasets is now part of the private API.\n",
            "  warnings.warn(message, FutureWarning)\n"
          ],
          "name": "stderr"
        }
      ]
    },
    {
      "cell_type": "code",
      "metadata": {
        "id": "doklTJ5bdwMB",
        "colab_type": "code",
        "colab": {}
      },
      "source": [
        "# DataSet Loading \n",
        "\n",
        "class dataset_loading:\n",
        "    def __init__(self):\n",
        "        pass \n",
        "    #mutag dataset\n",
        "    def mutag(self,test_size=0.1):\n",
        "        Gnx_train=[];\n",
        "        Gnx_test=[];\n",
        "        MUTAG = fetch_dataset(\"MUTAG\", verbose=False,as_graphs=False)\n",
        "        G, y = MUTAG.data, MUTAG.target\n",
        "        G_train, G_test, y_train, y_test = train_test_split(G, y, test_size=0.1)\n",
        "        for i in range(len(G_train)):\n",
        "            g_current=nx.Graph(list(G_train[i][2]));\n",
        "            g_current.add_nodes_from(G_train[i][1])\n",
        "            Gnx_train.append(g_current)\n",
        "        for i in range(len(G_test)):\n",
        "            g_current=nx.Graph(list(G_test[i][2]));\n",
        "            g_current.add_nodes_from(G_test[i][1])\n",
        "            Gnx_test.append(g_current)\n",
        "        return (Gnx_train,y_train), (Gnx_test,y_test)\n",
        "\n",
        "    #SBM generator\n",
        "    def generate_SBM(self,Graphs_num=300,nodes_per_graph=60,block_size=10,fraction=0.3,mult_factor=1.2,avg_deg=10,test_size=0.2):\n",
        "        blocks_num=int(nodes_per_graph/block_size)\n",
        "        sizes=[block_size]*blocks_num\n",
        "        G,y=[],[]\n",
        "        for i in range (Graphs_num):                  \n",
        "            p_in=fraction  if i <Graphs_num/2 else fraction*mult_factor\n",
        "            p_out=(avg_deg-(block_size-1)*p_in)/(nodes_per_graph-block_size)\n",
        "            p=p_out*np.ones([blocks_num]*2)+(p_in-p_out)*np.eye(blocks_num)\n",
        "            #print(p_in,p_out)\n",
        "            G_cur=nx.stochastic_block_model(sizes, p)\n",
        "            adj=[(i,j) for (i,j,_) in G_cur.edges(data=True)]\n",
        "            node_labels=dict ((i,list(val.values())[0]) for (i,val) in G_cur.nodes(data=True) )\n",
        "            \n",
        "            G.append(gk.Graph(adj, node_labels=node_labels))\n",
        "            y.append(-1 if i<Graphs_num/2 else 1)            \n",
        "        G_train, G_test, y_train, y_test = train_test_split(G, y, test_size=test_size)\n",
        "        return (G_train,y_train),(G_test,y_test)\n",
        "        \n",
        "\n",
        "    # DD dataset\n",
        "    def DD(self,test_size=0.1,train_size=800):\n",
        "        DD = fetch_dataset(\"DD\", verbose=True)\n",
        "        G, y = DD.data, DD.target\n",
        "        Gnx_train=[];\n",
        "        Gnx_test=[];           # Taking just Train_size graphs of the data set as training set, \n",
        "                                       #this is due to the large computatational time\n",
        "        G_train, G_test, y_train, y_test = train_test_split(G, y, test_size=test_size)\n",
        "        G_train,y_train=G_train[0:Train_size], y_train[0:Train_size]\n",
        "        for i in range(len(G_train)):\n",
        "            g_current=nx.Graph(list(G_train[i][0]));\n",
        "            g_current.add_nodes_from(G_train[i][1])\n",
        "            Gnx_train.append(g_current)\n",
        "        for i in range(len(G_test)):\n",
        "            g_current=nx.Graph(list(G_test[i][0]));\n",
        "            g_current.add_nodes_from(G_test[i][1])\n",
        "            Gnx_test.append(g_current)\n",
        "        return (Gnx_train,y_train), (Gnx_test,y_test)\n"
      ],
      "execution_count": 0,
      "outputs": []
    },
    {
      "cell_type": "code",
      "metadata": {
        "id": "He6DFw93diSd",
        "colab_type": "code",
        "colab": {
          "base_uri": "https://localhost:8080/",
          "height": 1000
        },
        "outputId": "16645750-18e1-45ca-d238-9ccce855b28f"
      },
      "source": [
        "nodes_num, mult_factor= range (4,5), 1+np.linspace(0.2,2,18)\n",
        "results=np.array([])\n",
        "results_time=np.array([])\n",
        "\n",
        "for (nodes_ind, nodes) in enumerate(nodes_num):\n",
        "  for (factor_in, factor) in enumerate (mult_factor):\n",
        "    start_time=time.time()\n",
        "    (G_train,y_train) ,(G_test, y_test) = dataset_loading().generate_SBM(Graphs_num=300, test_size=0.2, mult_factor=factor)\n",
        "    # Uses the shortest path kernel to generate the kernel matrices\n",
        "    kernel = GraphletSampling(k=nodes)\n",
        "    print('computing kernel matrix for the training set')\n",
        "    #kernel = ShortestPath(normalize=True)\n",
        "    K_train = kernel.fit_transform(G_train)\n",
        "    print('computing the kernel matrix for the test set')\n",
        "    K_test = kernel.transform(G_test)\n",
        "    print('Applying SVC on the former matrix')\n",
        "    # Uses the SVM classifier to perform classification\n",
        "    clf = SVC(kernel=\"precomputed\")\n",
        "    clf.fit(K_train, y_train)\n",
        "    print('Testing the model and calculating the test accuracy')\n",
        "    y_pred = clf.predict(K_test)\n",
        "    # Computes and prints the classification accuracy\n",
        "    acc = accuracy_score(y_test, y_pred)\n",
        "    results=np.append(results,acc)\n",
        "    results_time=np.append(results_time,float(time.time() - start_time))\n",
        "    print(\"Accuracy of value \",str(factor), \":\", str(round(acc*100, 2)) + \"%\")\n",
        "    print(\" time :--- %s seconds ---\" % (time.time() - start_time))\n",
        "    np.savetxt('Graphlet_kernel_results4.csv', results, delimiter=',')\n",
        "    np.savetxt('Graphlet_kernel_results4_time.csv', results_time, delimiter=',')"
      ],
      "execution_count": 22,
      "outputs": [
        {
          "output_type": "stream",
          "text": [
            "computing kernel matrix for the training set\n",
            "computing the kernel matrix for the test set\n",
            "Applying SVC on the former matrix\n",
            "Testing the model and calculating the test accuracy\n",
            "Accuracy of value  1.2 : 70.0%\n",
            " time :--- 654.9690098762512 seconds ---\n",
            "computing kernel matrix for the training set\n",
            "computing the kernel matrix for the test set\n",
            "Applying SVC on the former matrix\n",
            "Testing the model and calculating the test accuracy\n",
            "Accuracy of value  1.3058823529411765 : 76.67%\n",
            " time :--- 622.5317900180817 seconds ---\n",
            "computing kernel matrix for the training set\n",
            "computing the kernel matrix for the test set\n",
            "Applying SVC on the former matrix\n",
            "Testing the model and calculating the test accuracy\n",
            "Accuracy of value  1.4117647058823528 : 80.0%\n",
            " time :--- 545.1838631629944 seconds ---\n",
            "computing kernel matrix for the training set\n",
            "computing the kernel matrix for the test set\n",
            "Applying SVC on the former matrix\n",
            "Testing the model and calculating the test accuracy\n",
            "Accuracy of value  1.5176470588235293 : 93.33%\n",
            " time :--- 537.2379930019379 seconds ---\n",
            "computing kernel matrix for the training set\n",
            "computing the kernel matrix for the test set\n",
            "Applying SVC on the former matrix\n",
            "Testing the model and calculating the test accuracy\n",
            "Accuracy of value  1.6235294117647059 : 93.33%\n",
            " time :--- 532.1689591407776 seconds ---\n",
            "computing kernel matrix for the training set\n",
            "computing the kernel matrix for the test set\n",
            "Applying SVC on the former matrix\n",
            "Testing the model and calculating the test accuracy\n",
            "Accuracy of value  1.7294117647058824 : 95.0%\n",
            " time :--- 582.4592564105988 seconds ---\n",
            "computing kernel matrix for the training set\n",
            "computing the kernel matrix for the test set\n",
            "Applying SVC on the former matrix\n",
            "Testing the model and calculating the test accuracy\n",
            "Accuracy of value  1.8352941176470587 : 96.67%\n",
            " time :--- 580.5611746311188 seconds ---\n",
            "computing kernel matrix for the training set\n",
            "computing the kernel matrix for the test set\n",
            "Applying SVC on the former matrix\n",
            "Testing the model and calculating the test accuracy\n",
            "Accuracy of value  1.9411764705882353 : 98.33%\n",
            " time :--- 571.1709287166595 seconds ---\n",
            "computing kernel matrix for the training set\n",
            "computing the kernel matrix for the test set\n",
            "Applying SVC on the former matrix\n",
            "Testing the model and calculating the test accuracy\n",
            "Accuracy of value  2.0470588235294116 : 100.0%\n",
            " time :--- 560.8477504253387 seconds ---\n",
            "computing kernel matrix for the training set\n",
            "computing the kernel matrix for the test set\n",
            "Applying SVC on the former matrix\n",
            "Testing the model and calculating the test accuracy\n",
            "Accuracy of value  2.152941176470588 : 100.0%\n",
            " time :--- 569.8826923370361 seconds ---\n",
            "computing kernel matrix for the training set\n",
            "computing the kernel matrix for the test set\n",
            "Applying SVC on the former matrix\n",
            "Testing the model and calculating the test accuracy\n",
            "Accuracy of value  2.2588235294117647 : 100.0%\n",
            " time :--- 515.2972276210785 seconds ---\n",
            "computing kernel matrix for the training set\n",
            "computing the kernel matrix for the test set\n",
            "Applying SVC on the former matrix\n",
            "Testing the model and calculating the test accuracy\n",
            "Accuracy of value  2.364705882352941 : 100.0%\n",
            " time :--- 531.5789313316345 seconds ---\n",
            "computing kernel matrix for the training set\n",
            "computing the kernel matrix for the test set\n",
            "Applying SVC on the former matrix\n",
            "Testing the model and calculating the test accuracy\n",
            "Accuracy of value  2.4705882352941178 : 100.0%\n",
            " time :--- 519.6305646896362 seconds ---\n",
            "computing kernel matrix for the training set\n",
            "computing the kernel matrix for the test set\n",
            "Applying SVC on the former matrix\n",
            "Testing the model and calculating the test accuracy\n",
            "Accuracy of value  2.576470588235294 : 100.0%\n",
            " time :--- 544.9529044628143 seconds ---\n",
            "computing kernel matrix for the training set\n",
            "computing the kernel matrix for the test set\n",
            "Applying SVC on the former matrix\n",
            "Testing the model and calculating the test accuracy\n",
            "Accuracy of value  2.682352941176471 : 100.0%\n",
            " time :--- 492.9518461227417 seconds ---\n",
            "computing kernel matrix for the training set\n",
            "computing the kernel matrix for the test set\n",
            "Applying SVC on the former matrix\n",
            "Testing the model and calculating the test accuracy\n",
            "Accuracy of value  2.788235294117647 : 100.0%\n",
            " time :--- 513.1784143447876 seconds ---\n",
            "computing kernel matrix for the training set\n",
            "computing the kernel matrix for the test set\n",
            "Applying SVC on the former matrix\n",
            "Testing the model and calculating the test accuracy\n",
            "Accuracy of value  2.8941176470588235 : 100.0%\n",
            " time :--- 513.0260095596313 seconds ---\n",
            "computing kernel matrix for the training set\n",
            "computing the kernel matrix for the test set\n",
            "Applying SVC on the former matrix\n",
            "Testing the model and calculating the test accuracy\n",
            "Accuracy of value  3.0 : 100.0%\n",
            " time :--- 499.19424271583557 seconds ---\n"
          ],
          "name": "stdout"
        }
      ]
    },
    {
      "cell_type": "code",
      "metadata": {
        "id": "wup3xN5xThSw",
        "colab_type": "code",
        "colab": {
          "base_uri": "https://localhost:8080/",
          "height": 295
        },
        "outputId": "d0a436ba-df23-47a6-8d38-1648f07a9dd0"
      },
      "source": [
        "from  matplotlib import pyplot as plt\n",
        "result3=np.loadtxt('Graphlet_kernel_results3.csv')\n",
        "result4=np.loadtxt('Graphlet_kernel_results4.csv')\n",
        "plt.plot(mult_factor,result3,linewidth=2.5,label='Graphlet size=3')\n",
        "plt.plot(mult_factor,result4,linewidth=2.5,label='Graphlet size=4')\n",
        "plt.title('Graphlet kernel results on SBM model')\n",
        "plt.xlabel('Inter-class similarity parameter value')\n",
        "plt.ylabel('Test accuracy')\n",
        "plt.grid()\n",
        "plt.legend()\n",
        "plt.savefig(\"GK Test Accuracy SBM.png\")\n",
        "plt.show()\n"
      ],
      "execution_count": 46,
      "outputs": [
        {
          "output_type": "display_data",
          "data": {
            "image/png": "[encoded data removed]",
            "text/plain": [
              "<Figure size 432x288 with 1 Axes>"
            ]
          },
          "metadata": {
            "tags": [],
            "needs_background": "light"
          }
        }
      ]
    },
    {
      "cell_type": "code",
      "metadata": {
        "id": "bJ3xG0zBYzb5",
        "colab_type": "code",
        "colab": {
          "base_uri": "https://localhost:8080/",
          "height": 295
        },
        "outputId": "324e28d3-7768-42c3-f941-669fd8c13cf0"
      },
      "source": [
        "result3_time=np.loadtxt('Graphlet_kernel_results3_time.csv')\n",
        "result4_time=np.loadtxt('Graphlet_kernel_results4_time.csv')\n",
        "plt.plot(mult_factor,result3_time,linewidth=2,label='Graphlet size=3')\n",
        "plt.plot(mult_factor,result4_time,linewidth=2,label='Graphlet size=4')\n",
        "plt.title('Graphlet kernel computational time on SBM model')\n",
        "plt.xlabel('Inter-class similarity parameter value')\n",
        "plt.ylabel('Time (SEC)')\n",
        "\n",
        "plt.yscale('log')\n",
        "plt.grid()\n",
        "plt.legend()\n",
        "plt.ylim(40,1000)\n",
        "plt.savefig(\"GK Computational time.png\")\n",
        "plt.show()"
      ],
      "execution_count": 47,
      "outputs": [
        {
          "output_type": "display_data",
          "data": {
            "image/png": "[encoded data removed]",
            "text/plain": [
              "<Figure size 432x288 with 1 Axes>"
            ]
          },
          "metadata": {
            "tags": [],
            "needs_background": "light"
          }
        }
      ]
    }
  ]
}