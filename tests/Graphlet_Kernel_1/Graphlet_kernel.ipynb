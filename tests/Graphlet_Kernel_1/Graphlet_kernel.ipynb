{
  "nbformat": 4,
  "nbformat_minor": 0,
  "metadata": {
    "colab": {
      "name": "Graphlet kernel.ipynb",
      "provenance": [],
      "collapsed_sections": []
    },
    "kernelspec": {
      "name": "python3",
      "display_name": "Python 3"
    }
  },
  "cells": [
    {
      "cell_type": "code",
      "metadata": {
        "id": "ebPAAZR1dt2I",
        "colab_type": "code",
        "outputId": "19d42762-943e-467a-9046-95a43a138a52",
        "colab": {
          "base_uri": "https://localhost:8080/",
          "height": 202
        }
      },
      "source": [
        "'''\n",
        "this code shows the implementation of graphlet_sampling kernel ( which is expected to have the higher accuracy\n",
        "than random features_based kernels, but much longer computational time)\n",
        "'''\n",
        "!pip install grakel \n",
        "import time \n",
        "import numpy as np\n",
        "from sklearn.model_selection import train_test_split\n",
        "from sklearn.svm import SVC\n",
        "from sklearn.metrics import accuracy_score\n",
        "import networkx as nx\n",
        "import grakel as gk \n",
        "\n",
        "from grakel.datasets import fetch_dataset\n",
        "from grakel.kernels import ShortestPath\n",
        "from grakel.kernels import GraphletSampling"
      ],
      "execution_count": 7,
      "outputs": [
        {
          "output_type": "stream",
          "text": [
            "Requirement already satisfied: grakel in /usr/local/lib/python3.6/dist-packages (0.1b7)\n",
            "Requirement already satisfied: six>=1.11.0 in /usr/local/lib/python3.6/dist-packages (from grakel) (1.12.0)\n",
            "Requirement already satisfied: nose>=1.1.2 in /usr/local/lib/python3.6/dist-packages (from grakel) (1.3.7)\n",
            "Requirement already satisfied: cython>=0.27.3 in /usr/local/lib/python3.6/dist-packages (from grakel) (0.29.17)\n",
            "Requirement already satisfied: numpy>=1.14.0 in /usr/local/lib/python3.6/dist-packages (from grakel) (1.18.3)\n",
            "Requirement already satisfied: future>=0.16.0 in /usr/local/lib/python3.6/dist-packages (from grakel) (0.16.0)\n",
            "Requirement already satisfied: scikit-learn>=0.19 in /usr/local/lib/python3.6/dist-packages (from grakel) (0.22.2.post1)\n",
            "Requirement already satisfied: joblib>=0.11 in /usr/local/lib/python3.6/dist-packages (from scikit-learn>=0.19->grakel) (0.14.1)\n",
            "Requirement already satisfied: scipy>=0.17.0 in /usr/local/lib/python3.6/dist-packages (from scikit-learn>=0.19->grakel) (1.4.1)\n"
          ],
          "name": "stdout"
        }
      ]
    },
    {
      "cell_type": "code",
      "metadata": {
        "id": "doklTJ5bdwMB",
        "colab_type": "code",
        "colab": {}
      },
      "source": [
        "# DataSet Loading \n",
        "\n",
        "class dataset_loading:\n",
        "    def __init__(self):\n",
        "        pass \n",
        "    #mutag dataset\n",
        "    def mutag(self,test_size=0.1):\n",
        "        Gnx_train=[];\n",
        "        Gnx_test=[];\n",
        "        MUTAG = fetch_dataset(\"MUTAG\", verbose=False,as_graphs=False)\n",
        "        G, y = MUTAG.data, MUTAG.target\n",
        "        G_train, G_test, y_train, y_test = train_test_split(G, y, test_size=0.1)\n",
        "        for i in range(len(G_train)):\n",
        "            g_current=nx.Graph(list(G_train[i][2]));\n",
        "            g_current.add_nodes_from(G_train[i][1])\n",
        "            Gnx_train.append(g_current)\n",
        "        for i in range(len(G_test)):\n",
        "            g_current=nx.Graph(list(G_test[i][2]));\n",
        "            g_current.add_nodes_from(G_test[i][1])\n",
        "            Gnx_test.append(g_current)\n",
        "        return (Gnx_train,y_train), (Gnx_test,y_test)\n",
        "\n",
        "    #SBM generator\n",
        "    def generate_SBM(self,Graphs_num=300,nodes_per_graph=60,block_size=10,fraction=0.3,mult_factor=1.2,avg_deg=10,test_size=0.2):\n",
        "        blocks_num=int(nodes_per_graph/block_size)\n",
        "        sizes=[block_size]*blocks_num\n",
        "        G,y=[],[]\n",
        "        for i in range (Graphs_num):                  \n",
        "            p_in=fraction  if i <Graphs_num/2 else fraction*mult_factor\n",
        "            p_out=(avg_deg-(block_size-1)*p_in)/(nodes_per_graph-block_size)\n",
        "            p=p_out*np.ones([blocks_num]*2)+(p_in-p_out)*np.eye(blocks_num)\n",
        "            #print(p_in,p_out)\n",
        "            G_cur=nx.stochastic_block_model(sizes, p)\n",
        "            adj=[(i,j) for (i,j,_) in G_cur.edges(data=True)]\n",
        "            node_labels=dict ((i,list(val.values())[0]) for (i,val) in G_cur.nodes(data=True) )\n",
        "            \n",
        "            G.append(gk.Graph(adj, node_labels=node_labels))\n",
        "            y.append(-1 if i<Graphs_num/2 else 1)            \n",
        "        G_train, G_test, y_train, y_test = train_test_split(G, y, test_size=test_size)\n",
        "        return (G_train,y_train),(G_test,y_test)\n",
        "        \n",
        "\n",
        "    # DD dataset\n",
        "    def DD(self,test_size=0.1,train_size=800):\n",
        "        DD = fetch_dataset(\"DD\", verbose=True)\n",
        "        G, y = DD.data, DD.target\n",
        "        Gnx_train=[];\n",
        "        Gnx_test=[];           # Taking just Train_size graphs of the data set as training set, \n",
        "                                       #this is due to the large computatational time\n",
        "        G_train, G_test, y_train, y_test = train_test_split(G, y, test_size=test_size)\n",
        "        G_train,y_train=G_train[0:Train_size], y_train[0:Train_size]\n",
        "        for i in range(len(G_train)):\n",
        "            g_current=nx.Graph(list(G_train[i][0]));\n",
        "            g_current.add_nodes_from(G_train[i][1])\n",
        "            Gnx_train.append(g_current)\n",
        "        for i in range(len(G_test)):\n",
        "            g_current=nx.Graph(list(G_test[i][0]));\n",
        "            g_current.add_nodes_from(G_test[i][1])\n",
        "            Gnx_test.append(g_current)\n",
        "        return (Gnx_train,y_train), (Gnx_test,y_test)\n"
      ],
      "execution_count": 0,
      "outputs": []
    },
    {
      "cell_type": "code",
      "metadata": {
        "id": "He6DFw93diSd",
        "colab_type": "code",
        "outputId": "d7f0041d-dc57-4a9a-fabd-f13ea000606c",
        "colab": {
          "base_uri": "https://localhost:8080/",
          "height": 1000
        }
      },
      "source": [
        "nodes_num, mult_factor= range (6,7), 1+np.linspace(0.2,2,18)\n",
        "results=np.array([])\n",
        "results_time=np.array([])\n",
        "\n",
        "for (nodes_ind, nodes) in enumerate(nodes_num):\n",
        "  for (factor_in, factor) in enumerate (mult_factor):\n",
        "    start_time=time.time()\n",
        "    (G_train,y_train) ,(G_test, y_test) = dataset_loading().generate_SBM(Graphs_num=300, test_size=0.2, mult_factor=factor)\n",
        "    # Uses the shortest path kernel to generate the kernel matrices\n",
        "    kernel = GraphletSampling(k=nodes, sampling={'n_samples':2000})\n",
        "    print('computing kernel matrix for the training set')\n",
        "    #kernel = ShortestPath(normalize=True)\n",
        "    K_train = kernel.fit_transform(G_train)\n",
        "    print('computing the kernel matrix for the test set')\n",
        "    K_test = kernel.transform(G_test)\n",
        "    print('Applying SVC on the former matrix')\n",
        "    # Uses the SVM classifier to perform classification\n",
        "    clf = SVC(kernel=\"precomputed\")\n",
        "    clf.fit(K_train, y_train)\n",
        "    print('Testing the model and calculating the test accuracy')\n",
        "    y_pred = clf.predict(K_test)\n",
        "    # Computes and prints the classification accuracy\n",
        "    acc = accuracy_score(y_test, y_pred)\n",
        "    results=np.append(results,acc)\n",
        "    results_time=np.append(results_time,float(time.time() - start_time))\n",
        "    print(\"Accuracy of value \",str(factor), \":\", str(round(acc*100, 2)) + \"%\")\n",
        "    print(\" time :--- %s seconds ---\" % (time.time() - start_time))\n",
        "    np.savetxt('Graphlet_kernel_results6.csv', results, delimiter=',')\n",
        "    np.savetxt('Graphlet_kernel_results6_time.csv', results_time, delimiter=',')"
      ],
      "execution_count": 30,
      "outputs": [
        {
          "output_type": "stream",
          "text": [
            "computing kernel matrix for the training set\n",
            "computing the kernel matrix for the test set\n",
            "Applying SVC on the former matrix\n",
            "Testing the model and calculating the test accuracy\n",
            "Accuracy of value  1.2 : 50.0%\n",
            " time :--- 312.6998291015625 seconds ---\n",
            "computing kernel matrix for the training set\n",
            "computing the kernel matrix for the test set\n",
            "Applying SVC on the former matrix\n",
            "Testing the model and calculating the test accuracy\n",
            "Accuracy of value  1.3058823529411765 : 70.0%\n",
            " time :--- 307.4747622013092 seconds ---\n",
            "computing kernel matrix for the training set\n",
            "computing the kernel matrix for the test set\n",
            "Applying SVC on the former matrix\n",
            "Testing the model and calculating the test accuracy\n",
            "Accuracy of value  1.4117647058823528 : 75.0%\n",
            " time :--- 304.6146755218506 seconds ---\n",
            "computing kernel matrix for the training set\n",
            "computing the kernel matrix for the test set\n",
            "Applying SVC on the former matrix\n",
            "Testing the model and calculating the test accuracy\n",
            "Accuracy of value  1.5176470588235293 : 71.67%\n",
            " time :--- 305.14184737205505 seconds ---\n",
            "computing kernel matrix for the training set\n",
            "computing the kernel matrix for the test set\n",
            "Applying SVC on the former matrix\n",
            "Testing the model and calculating the test accuracy\n",
            "Accuracy of value  1.6235294117647059 : 81.67%\n",
            " time :--- 304.8460490703583 seconds ---\n",
            "computing kernel matrix for the training set\n",
            "computing the kernel matrix for the test set\n",
            "Applying SVC on the former matrix\n",
            "Testing the model and calculating the test accuracy\n",
            "Accuracy of value  1.7294117647058824 : 80.0%\n",
            " time :--- 312.27787923812866 seconds ---\n",
            "computing kernel matrix for the training set\n",
            "computing the kernel matrix for the test set\n",
            "Applying SVC on the former matrix\n",
            "Testing the model and calculating the test accuracy\n",
            "Accuracy of value  1.8352941176470587 : 91.67%\n",
            " time :--- 310.6985969543457 seconds ---\n",
            "computing kernel matrix for the training set\n",
            "computing the kernel matrix for the test set\n",
            "Applying SVC on the former matrix\n",
            "Testing the model and calculating the test accuracy\n",
            "Accuracy of value  1.9411764705882353 : 95.0%\n",
            " time :--- 309.1638753414154 seconds ---\n",
            "computing kernel matrix for the training set\n",
            "computing the kernel matrix for the test set\n",
            "Applying SVC on the former matrix\n",
            "Testing the model and calculating the test accuracy\n",
            "Accuracy of value  2.0470588235294116 : 96.67%\n",
            " time :--- 317.31625151634216 seconds ---\n",
            "computing kernel matrix for the training set\n",
            "computing the kernel matrix for the test set\n",
            "Applying SVC on the former matrix\n",
            "Testing the model and calculating the test accuracy\n",
            "Accuracy of value  2.152941176470588 : 98.33%\n",
            " time :--- 307.17879605293274 seconds ---\n",
            "computing kernel matrix for the training set\n",
            "computing the kernel matrix for the test set\n",
            "Applying SVC on the former matrix\n",
            "Testing the model and calculating the test accuracy\n",
            "Accuracy of value  2.2588235294117647 : 100.0%\n",
            " time :--- 328.1854109764099 seconds ---\n",
            "computing kernel matrix for the training set\n",
            "computing the kernel matrix for the test set\n",
            "Applying SVC on the former matrix\n",
            "Testing the model and calculating the test accuracy\n",
            "Accuracy of value  2.364705882352941 : 100.0%\n",
            " time :--- 316.65987396240234 seconds ---\n",
            "computing kernel matrix for the training set\n",
            "computing the kernel matrix for the test set\n",
            "Applying SVC on the former matrix\n",
            "Testing the model and calculating the test accuracy\n",
            "Accuracy of value  2.4705882352941178 : 100.0%\n",
            " time :--- 314.8292291164398 seconds ---\n",
            "computing kernel matrix for the training set\n",
            "computing the kernel matrix for the test set\n",
            "Applying SVC on the former matrix\n",
            "Testing the model and calculating the test accuracy\n",
            "Accuracy of value  2.576470588235294 : 100.0%\n",
            " time :--- 311.2299864292145 seconds ---\n",
            "computing kernel matrix for the training set\n",
            "computing the kernel matrix for the test set\n",
            "Applying SVC on the former matrix\n",
            "Testing the model and calculating the test accuracy\n",
            "Accuracy of value  2.682352941176471 : 100.0%\n",
            " time :--- 309.79792070388794 seconds ---\n",
            "computing kernel matrix for the training set\n",
            "computing the kernel matrix for the test set\n",
            "Applying SVC on the former matrix\n",
            "Testing the model and calculating the test accuracy\n",
            "Accuracy of value  2.788235294117647 : 100.0%\n",
            " time :--- 312.2079153060913 seconds ---\n",
            "computing kernel matrix for the training set\n",
            "computing the kernel matrix for the test set\n",
            "Applying SVC on the former matrix\n",
            "Testing the model and calculating the test accuracy\n",
            "Accuracy of value  2.8941176470588235 : 100.0%\n",
            " time :--- 317.55905199050903 seconds ---\n",
            "computing kernel matrix for the training set\n",
            "computing the kernel matrix for the test set\n",
            "Applying SVC on the former matrix\n",
            "Testing the model and calculating the test accuracy\n",
            "Accuracy of value  3.0 : 100.0%\n",
            " time :--- 309.1458332538605 seconds ---\n"
          ],
          "name": "stdout"
        }
      ]
    },
    {
      "cell_type": "code",
      "metadata": {
        "id": "Tf0kAcyYkq3b",
        "colab_type": "code",
        "colab": {
          "base_uri": "https://localhost:8080/",
          "height": 54
        },
        "outputId": "fe3d8791-5957-43be-d1ea-6ca689d81485"
      },
      "source": [
        "from  matplotlib import pyplot as plt\n",
        "result3=np.loadtxt('Graphlet_kernel_results34.csv')\n",
        "print(result3[18:].shape)\n",
        "print(result3[:18].shape)"
      ],
      "execution_count": 11,
      "outputs": [
        {
          "output_type": "stream",
          "text": [
            "(18,)\n",
            "(18,)\n"
          ],
          "name": "stdout"
        }
      ]
    },
    {
      "cell_type": "code",
      "metadata": {
        "id": "wup3xN5xThSw",
        "colab_type": "code",
        "outputId": "14404193-b180-4fb7-9d08-906014b46d03",
        "colab": {
          "base_uri": "https://localhost:8080/",
          "height": 295
        }
      },
      "source": [
        "from  matplotlib import pyplot as plt\n",
        "result3=np.loadtxt('Graphlet_kernel_results34.csv')\n",
        "result4=result3[18:]\n",
        "result3=result3[0:18]\n",
        "result5=np.loadtxt('Graphlet_kernel_results5.csv')\n",
        "result6=np.loadtxt('Graphlet_kernel_results6.csv')\n",
        "linewidth=1.5\n",
        "plt.plot(mult_factor,result3,linewidth=linewidth,label='Graphlet size=3')\n",
        "plt.plot(mult_factor,result4,linewidth=linewidth,label='Graphlet size=4')\n",
        "plt.plot(mult_factor,result5,linewidth=linewidth,label='Graphlet size=5')\n",
        "plt.plot(mult_factor,result6,linewidth=linewidth,label='Graphlet size=6')\n",
        "plt.title('Graphlet kernel results on SBM model')\n",
        "plt.xlabel('Inter-class similarity parameter value')\n",
        "plt.ylabel('Test accuracy')\n",
        "plt.grid()\n",
        "plt.legend()\n",
        "plt.savefig(\"GK Test Accuracy SBM.png\")\n",
        "plt.show()\n"
      ],
      "execution_count": 32,
      "outputs": [
        {
          "output_type": "display_data",
          "data": {
            "image/png": "[encoded data removed]",
            "text/plain": [
              "<Figure size 432x288 with 1 Axes>"
            ]
          },
          "metadata": {
            "tags": [],
            "needs_background": "light"
          }
        }
      ]
    },
    {
      "cell_type": "code",
      "metadata": {
        "id": "bJ3xG0zBYzb5",
        "colab_type": "code",
        "outputId": "134ac815-5472-446a-8732-0cdb81c9efc0",
        "colab": {
          "base_uri": "https://localhost:8080/",
          "height": 295
        }
      },
      "source": [
        "result3_time=np.loadtxt('Graphlet_kernel_results34_time.csv')\n",
        "result4_time=result3_time[18:]\n",
        "result3_time=result3_time[:18]\n",
        "result5_time=np.loadtxt('Graphlet_kernel_results5_time.csv')\n",
        "result6_time=np.loadtxt('Graphlet_kernel_results6_time.csv')\n",
        "\n",
        "plt.plot(mult_factor,result3_time,linewidth=2,label='Graphlet size=3')\n",
        "plt.plot(mult_factor,result4_time,linewidth=2,label='Graphlet size=4')\n",
        "plt.plot(mult_factor,result5_time,linewidth=2,label='Graphlet size=5')\n",
        "plt.plot(mult_factor,result6_time,linewidth=2,label='Graphlet size=6')\n",
        "plt.title('Graphlet kernel computational time on SBM model')\n",
        "plt.xlabel('Inter-class similarity parameter value')\n",
        "plt.ylabel('Time (SEC)')\n",
        "plt.grid()\n",
        "plt.legend()\n",
        "plt.savefig(\"GK Computational time.png\")\n",
        "plt.show()"
      ],
      "execution_count": 33,
      "outputs": [
        {
          "output_type": "display_data",
          "data": {
            "image/png": "[encoded data removed]",
            "text/plain": [
              "<Figure size 432x288 with 1 Axes>"
            ]
          },
          "metadata": {
            "tags": [],
            "needs_background": "light"
          }
        }
      ]
    }
  ]
}